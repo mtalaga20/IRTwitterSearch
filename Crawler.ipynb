{
 "cells": [
  {
   "cell_type": "code",
   "execution_count": 2,
   "id": "60ebedb9-c6c9-47a3-b9a0-6e58f787a865",
   "metadata": {},
   "outputs": [],
   "source": [
    "startPage = \"twitter.com\"\n",
    "import http.client as hc\n",
    "import re\n",
    "from bs4 import BeautifulSoup\n",
    "import queue\n",
    "import json\n",
    "\n",
    "jsonDecoder = json.JSONDecoder()\n",
    "\n",
    "def robot_valid_href(href):\n",
    "    if not href:\n",
    "        return False\n",
    "    # Note still must abide by crawl-delay = 1\n",
    "    valid = True\n",
    "    valid &= (not not re.compile(\"twitter.com\").search(href)) or href[0] == \"/\"\n",
    "    valid &= not re.compile(\"/search/realtime\").search(href)\n",
    "    valid &= not re.compile(\"/search/users\").search(href)\n",
    "    valid &= not re.compile(r\"/search/.+/grid\").search(href)\n",
    "\n",
    "    valid &= not re.compile(r\"/.+/followers\").search(href)\n",
    "    valid &= not re.compile(r\"/.+/following\").search(href)\n",
    "\n",
    "    valid &= not re.compile(\"/oauth\").search(href)\n",
    "    valid &= not re.compile(\"/1/oauth\").search(href)\n",
    "\n",
    "    valid &= not re.compile(\"/i/streams\").search(href)\n",
    "    valid &= not re.compile(\"/i/hello\").search(href)\n",
    "    \n",
    "    valid &= not re.compile(\"/account/deactivated\").search(href)\n",
    "    valid &= not re.compile(\"/settings/deactivated\").search(href)\n",
    "    return href and valid"
   ]
  },
  {
   "cell_type": "code",
   "execution_count": 3,
   "id": "c93f23e2-6002-4c31-b20b-7e2f8a031cd9",
   "metadata": {},
   "outputs": [],
   "source": [
    "def parsePage(url, basePage=startPage):\n",
    "    conn1 = hc.HTTPSConnection(basePage)\n",
    "    conn1.set_debuglevel(0)\n",
    "    conn1.request(\"GET\", url)\n",
    "    resp = conn1.getresponse()\n",
    "    soup = BeautifulSoup(resp.read(), \"html.parser\")\n",
    "    return soup"
   ]
  },
  {
   "cell_type": "code",
   "execution_count": 4,
   "id": "42cfd5e5-7898-4aed-b8a5-fe12f152f69a",
   "metadata": {},
   "outputs": [],
   "source": [
    "def scrapeUrls(soup):\n",
    "    urls = []\n",
    "    for tag in soup.find_all(href=robot_valid_href):\n",
    "        urls.append(tag[\"href\"])\n",
    "    for i in range(len(urls)):\n",
    "        if urls[i][0] == \"/\":\n",
    "            urls[i] = \"https://\" + startPage + urls[i]\n",
    "    return urls"
   ]
  },
  {
   "cell_type": "code",
   "execution_count": 5,
   "id": "aeed0c74-1752-4470-a885-bd0c38354c35",
   "metadata": {},
   "outputs": [],
   "source": [
    "def tweetFilter(tag):\n",
    "    return tag.has_attr(\"data-item-type\") and tag[\"data-item-type\"] == \"tweet\"\n",
    "\n",
    "def scrapeTweet(soup):\n",
    "    tweets = []\n",
    "    for tag in soup.find_all(tweetFilter):\n",
    "        # Get immediate subclass with tweet data\n",
    "        dataTag = tag.find(\"div\")\n",
    "        if (not dataTag.has_attr(\"data-reply-to-users-json\")):\n",
    "            # print(\"\\n\\n\\nERROR\\n\\n\\n\", tag, \"\\n\\n\\n\", dataTag)\n",
    "            continue\n",
    "        tweetTag = dataTag.find(\"p\", class_=re.compile(\"tweet-text\"))\n",
    "        # print(dataTag[\"data-reply-to-users-json\"])\n",
    "        \n",
    "        userJsonData = jsonDecoder.decode(dataTag[\"data-reply-to-users-json\"])\n",
    "        # print(userJsonData)\n",
    "        # print(dataTag[\"data-reply-to-users-json\"])\n",
    "        \n",
    "        \n",
    "        permaPath = dataTag[\"data-permalink-path\"]\n",
    "        # print(permaPath)\n",
    "        tweetText = tweetTag.get_text()\n",
    "        primaryUser = userJsonData[0]\n",
    "        tweets.append((primaryUser[\"id_str\"], primaryUser[\"screen_name\"], primaryUser[\"name\"], permaPath, tweetText))\n",
    "        # print(tweetTag.get_text(), \"\\n\\nNEW_TWEET\\n\")\n",
    "    return tweets\n",
    "        \n",
    "    "
   ]
  },
  {
   "cell_type": "code",
   "execution_count": 6,
   "id": "fc14fa21-0947-4ff6-8098-fdc3115733ae",
   "metadata": {},
   "outputs": [],
   "source": [
    "def processUrl(url):\n",
    "    soup = parsePage(url)\n",
    "    urls = scrapeUrls(soup)\n",
    "    tweetLists = scrapeTweet(soup)"
   ]
  },
  {
   "cell_type": "code",
   "execution_count": 30,
   "id": "cc7e8087-96ef-46e6-8a16-cf2ca91a6d88",
   "metadata": {},
   "outputs": [],
   "source": [
    "def crawlAround():\n",
    "    # Load the urlFrontier into a queue\n",
    "    urlFrontier = open(\"crawlData/urlFrontier.txt\",\"r\")\n",
    "    urlFrontierQueue = queue.SimpleQueue()\n",
    "    for line in urlFrontier:\n",
    "        urlFrontierQueue.put(line)\n",
    "    urlFrontier.close()\n",
    "    # Load the urlRepo into a set\n",
    "    urlRepo = open(\"crawlData/urlRepo.txt\", \"r\")\n",
    "    urlRepoSet = set({})\n",
    "    for line in urlRepo:\n",
    "        line = line.replace(\"\\n\",\"\") # Have to trim the end since set is so specific\n",
    "        urlRepoSet.add(line)\n",
    "    urlRepo.close()\n",
    "    # Start crawling process\n",
    "    print(urlFrontierQueue.qsize())\n",
    "    print(urlRepoSet)\n",
    "    "
   ]
  },
  {
   "cell_type": "code",
   "execution_count": 31,
   "id": "347d13b5",
   "metadata": {},
   "outputs": [
    {
     "name": "stdout",
     "output_type": "stream",
     "text": [
      "4\n",
      "{'https://twitter.com/search?q=Hello'}\n"
     ]
    }
   ],
   "source": [
    "crawlAround()"
   ]
  },
  {
   "cell_type": "code",
   "execution_count": null,
   "id": "1d0eef70",
   "metadata": {},
   "outputs": [],
   "source": []
  }
 ],
 "metadata": {
  "kernelspec": {
   "display_name": "Python 3 (ipykernel)",
   "language": "python",
   "name": "python3"
  },
  "language_info": {
   "codemirror_mode": {
    "name": "ipython",
    "version": 3
   },
   "file_extension": ".py",
   "mimetype": "text/x-python",
   "name": "python",
   "nbconvert_exporter": "python",
   "pygments_lexer": "ipython3",
   "version": "3.10.0"
  }
 },
 "nbformat": 4,
 "nbformat_minor": 5
}
