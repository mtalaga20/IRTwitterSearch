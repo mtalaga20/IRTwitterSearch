{
 "cells": [
  {
   "cell_type": "code",
   "execution_count": 1,
   "id": "60ebedb9-c6c9-47a3-b9a0-6e58f787a865",
   "metadata": {},
   "outputs": [],
   "source": [
    "startPage = \"twitter.com\"\n",
    "import http.client as hc\n",
    "import re\n",
    "from bs4 import BeautifulSoup\n",
    "from collections import deque\n",
    "import json\n",
    "import time\n",
    "\n",
    "jsonDecoder = json.JSONDecoder()\n",
    "\n",
    "def robot_valid_href(href):\n",
    "    if not href:\n",
    "        return False\n",
    "    # Note still must abide by crawl-delay = 1\n",
    "    valid = True\n",
    "    valid &= (not not re.compile(\"twitter.com\").search(href)) or href[0] == \"/\"\n",
    "    valid &= not re.compile(\"/search/realtime\").search(href)\n",
    "    valid &= not re.compile(\"/search/users\").search(href)\n",
    "    valid &= not re.compile(r\"/search/.+/grid\").search(href)\n",
    "\n",
    "    valid &= not re.compile(r\"/.+/followers\").search(href)\n",
    "    valid &= not re.compile(r\"/.+/following\").search(href)\n",
    "\n",
    "    valid &= not re.compile(\"/oauth\").search(href)\n",
    "    valid &= not re.compile(\"/1/oauth\").search(href)\n",
    "\n",
    "    valid &= not re.compile(\"/i/streams\").search(href)\n",
    "    valid &= not re.compile(\"/i/hello\").search(href)\n",
    "    \n",
    "    valid &= not re.compile(\"/account/deactivated\").search(href)\n",
    "    valid &= not re.compile(\"/settings/deactivated\").search(href)\n",
    "    # Blocking out non-english\n",
    "    valid &= not re.compile(\"lang=\").search(href)\n",
    "\n",
    "    return href and valid"
   ]
  },
  {
   "cell_type": "code",
   "execution_count": 2,
   "id": "c93f23e2-6002-4c31-b20b-7e2f8a031cd9",
   "metadata": {},
   "outputs": [],
   "source": [
    "def parsePage(url, basePage=startPage):\n",
    "    conn1 = hc.HTTPSConnection(basePage)\n",
    "    conn1.set_debuglevel(0)\n",
    "    conn1.request(\"GET\", url)\n",
    "    resp = conn1.getresponse()\n",
    "    soup = BeautifulSoup(resp.read(), \"html.parser\")\n",
    "    return soup"
   ]
  },
  {
   "cell_type": "code",
   "execution_count": 3,
   "id": "42cfd5e5-7898-4aed-b8a5-fe12f152f69a",
   "metadata": {},
   "outputs": [],
   "source": [
    "def scrapeUrls(soup):\n",
    "    urls = []\n",
    "    for tag in soup.find_all(href=robot_valid_href):\n",
    "        urls.append(tag[\"href\"])\n",
    "    for i in range(len(urls)):\n",
    "        if urls[i][0] == \"/\":\n",
    "            urls[i] = \"https://\" + startPage + urls[i]\n",
    "    return urls"
   ]
  },
  {
   "cell_type": "code",
   "execution_count": 4,
   "id": "aeed0c74-1752-4470-a885-bd0c38354c35",
   "metadata": {},
   "outputs": [],
   "source": [
    "def tweetFilter(tag):\n",
    "    return tag.has_attr(\"data-item-type\") and tag[\"data-item-type\"] == \"tweet\"\n",
    "\n",
    "def scrapeTweet(soup):\n",
    "    tweets = []\n",
    "    for tag in soup.find_all(tweetFilter):\n",
    "        # Get immediate subclass with tweet data\n",
    "        dataTag = tag.find(\"div\")\n",
    "        if (not dataTag.has_attr(\"data-reply-to-users-json\")):\n",
    "            # print(\"\\n\\n\\nERROR\\n\\n\\n\", tag, \"\\n\\n\\n\", dataTag)\n",
    "            continue\n",
    "        tweetTag = dataTag.find(\"p\", class_=re.compile(\"tweet-text\"))\n",
    "        # print(dataTag[\"data-reply-to-users-json\"])\n",
    "        \n",
    "        userJsonData = jsonDecoder.decode(dataTag[\"data-reply-to-users-json\"])\n",
    "        # print(userJsonData)\n",
    "        # print(dataTag[\"data-reply-to-users-json\"])\n",
    "        \n",
    "        \n",
    "        permaPath = dataTag[\"data-permalink-path\"]\n",
    "        # print(permaPath)\n",
    "        tweetText = tweetTag.get_text()\n",
    "        primaryUser = userJsonData[0]\n",
    "        tweets.append((primaryUser[\"id_str\"], primaryUser[\"screen_name\"], primaryUser[\"name\"], permaPath, tweetText))\n",
    "        # print(tweetTag.get_text(), \"\\n\\nNEW_TWEET\\n\")\n",
    "    return tweets\n",
    "        \n",
    "    "
   ]
  },
  {
   "cell_type": "code",
   "execution_count": 5,
   "id": "fc14fa21-0947-4ff6-8098-fdc3115733ae",
   "metadata": {},
   "outputs": [],
   "source": [
    "def processUrl(url):\n",
    "    soup = parsePage(url)\n",
    "    urls = scrapeUrls(soup)\n",
    "    tweetLists = scrapeTweet(soup)\n",
    "    return urls, tweetLists"
   ]
  },
  {
   "cell_type": "code",
   "execution_count": 6,
   "id": "cc7e8087-96ef-46e6-8a16-cf2ca91a6d88",
   "metadata": {},
   "outputs": [],
   "source": [
    "def saveOutData(tweetList, urlQueue : deque, repoSet):\n",
    "    # Write out output file\n",
    "    outFile = open(\"crawlData/output.txt\", \"a\", encoding=\"utf-8\")\n",
    "    for tweet in tweetList:\n",
    "        outFile.write(str(tweet) + \"\\n\")\n",
    "    outFile.close()\n",
    "\n",
    "    # Write out queue\n",
    "    urlFrontier = open(\"crawlData/urlFrontier.txt\", \"w\") # Write to overwrite\n",
    "    for url in urlQueue:\n",
    "        urlFrontier.write(url + \"\\n\")\n",
    "    urlFrontier.close()\n",
    "    # Write out repo\n",
    "    urlRepo = open(\"crawlData/urlRepo.txt\", \"w\") # Write to overwrite\n",
    "    for value in repoSet:\n",
    "        urlRepo.write(value + \"\\n\")\n",
    "    urlRepo.close()\n",
    "\n",
    "def crawlAround():\n",
    "    # Load the urlFrontier into a queue\n",
    "    urlFrontier = open(\"crawlData/urlFrontier.txt\",\"r\")\n",
    "    urlFrontierQueue = deque()\n",
    "    for line in urlFrontier:\n",
    "        urlFrontierQueue.append(line)\n",
    "    urlFrontier.close()\n",
    "    # Load the urlRepo into a set\n",
    "    urlRepo = open(\"crawlData/urlRepo.txt\", \"r\")\n",
    "    urlRepoSet = set({})\n",
    "    for line in urlRepo:\n",
    "        line = line.replace(\"\\n\",\"\") # Have to trim the end since set is so specific\n",
    "        urlRepoSet.add(line)\n",
    "    urlRepo.close()\n",
    "    # Start crawling process\n",
    "\n",
    "    i = 0\n",
    "    runningTweetList = []\n",
    "    while True:\n",
    "        i += 1\n",
    "        time.sleep(1)\n",
    "        topUrl = urlFrontierQueue.popleft()\n",
    "        # print(topUrl)\n",
    "        urls, tweetLists = processUrl(topUrl)\n",
    "        runningTweetList = runningTweetList + tweetLists\n",
    "        for url in urls:\n",
    "            if url not in urlRepoSet:\n",
    "                # We only add ones not already done\n",
    "                # print(url)\n",
    "                urlFrontierQueue.append(url) # Adds to the right\n",
    "                urlRepoSet.add(url)\n",
    "        if i % 10 == 0:\n",
    "            # Save out queue, repo, and output every once in a while\n",
    "            i = 0 # Reset i value\n",
    "            saveOutData(runningTweetList, urlFrontierQueue.copy(), urlRepoSet.copy()) # Have to use copies\n",
    "            runningTweetList = [] # Reset tweet list so no duplicates\n"
   ]
  },
  {
   "cell_type": "code",
   "execution_count": 7,
   "id": "347d13b5",
   "metadata": {},
   "outputs": [
    {
     "name": "stderr",
     "output_type": "stream",
     "text": [
      "Some characters could not be decoded, and were replaced with REPLACEMENT CHARACTER.\n"
     ]
    },
    {
     "ename": "KeyboardInterrupt",
     "evalue": "",
     "output_type": "error",
     "traceback": [
      "\u001b[1;31m---------------------------------------------------------------------------\u001b[0m",
      "\u001b[1;31mKeyboardInterrupt\u001b[0m                         Traceback (most recent call last)",
      "\u001b[1;32m~\\AppData\\Local\\Temp/ipykernel_13844/1381689095.py\u001b[0m in \u001b[0;36m<module>\u001b[1;34m\u001b[0m\n\u001b[1;32m----> 1\u001b[1;33m \u001b[0mcrawlAround\u001b[0m\u001b[1;33m(\u001b[0m\u001b[1;33m)\u001b[0m\u001b[1;33m\u001b[0m\u001b[1;33m\u001b[0m\u001b[0m\n\u001b[0m",
      "\u001b[1;32m~\\AppData\\Local\\Temp/ipykernel_13844/1953749747.py\u001b[0m in \u001b[0;36mcrawlAround\u001b[1;34m()\u001b[0m\n\u001b[0;32m     37\u001b[0m     \u001b[1;32mwhile\u001b[0m \u001b[1;32mTrue\u001b[0m\u001b[1;33m:\u001b[0m\u001b[1;33m\u001b[0m\u001b[1;33m\u001b[0m\u001b[0m\n\u001b[0;32m     38\u001b[0m         \u001b[0mi\u001b[0m \u001b[1;33m+=\u001b[0m \u001b[1;36m1\u001b[0m\u001b[1;33m\u001b[0m\u001b[1;33m\u001b[0m\u001b[0m\n\u001b[1;32m---> 39\u001b[1;33m         \u001b[0mtime\u001b[0m\u001b[1;33m.\u001b[0m\u001b[0msleep\u001b[0m\u001b[1;33m(\u001b[0m\u001b[1;36m1\u001b[0m\u001b[1;33m)\u001b[0m\u001b[1;33m\u001b[0m\u001b[1;33m\u001b[0m\u001b[0m\n\u001b[0m\u001b[0;32m     40\u001b[0m         \u001b[0mtopUrl\u001b[0m \u001b[1;33m=\u001b[0m \u001b[0murlFrontierQueue\u001b[0m\u001b[1;33m.\u001b[0m\u001b[0mpopleft\u001b[0m\u001b[1;33m(\u001b[0m\u001b[1;33m)\u001b[0m\u001b[1;33m\u001b[0m\u001b[1;33m\u001b[0m\u001b[0m\n\u001b[0;32m     41\u001b[0m         \u001b[1;31m# print(topUrl)\u001b[0m\u001b[1;33m\u001b[0m\u001b[1;33m\u001b[0m\u001b[0m\n",
      "\u001b[1;31mKeyboardInterrupt\u001b[0m: "
     ]
    }
   ],
   "source": [
    "crawlAround()"
   ]
  },
  {
   "cell_type": "code",
   "execution_count": null,
   "id": "54fe76fb",
   "metadata": {},
   "outputs": [],
   "source": []
  }
 ],
 "metadata": {
  "kernelspec": {
   "display_name": "Python 3 (ipykernel)",
   "language": "python",
   "name": "python3"
  },
  "language_info": {
   "codemirror_mode": {
    "name": "ipython",
    "version": 3
   },
   "file_extension": ".py",
   "mimetype": "text/x-python",
   "name": "python",
   "nbconvert_exporter": "python",
   "pygments_lexer": "ipython3",
   "version": "3.10.0"
  }
 },
 "nbformat": 4,
 "nbformat_minor": 5
}
